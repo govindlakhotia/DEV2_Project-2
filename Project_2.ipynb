{
 "cells": [
  {
   "cell_type": "code",
   "execution_count": 19,
   "metadata": {
    "id": "j-1vOyfCM7uV"
   },
   "outputs": [],
   "source": [
    "import streamlit as st\n",
    "import pandas as pd\n",
    "import matplotlib.pyplot as plt\n",
    "from datetime import datetime"
   ]
  },
  {
   "cell_type": "code",
   "execution_count": 20,
   "metadata": {
    "colab": {
     "base_uri": "https://localhost:8080/",
     "height": 400
    },
    "id": "nAs519r-M-X8",
    "outputId": "62fa8a6c-e366-4a51-fe09-c7dbbc09e593"
   },
   "outputs": [
    {
     "data": {
      "text/html": [
       "<div>\n",
       "<style scoped>\n",
       "    .dataframe tbody tr th:only-of-type {\n",
       "        vertical-align: middle;\n",
       "    }\n",
       "\n",
       "    .dataframe tbody tr th {\n",
       "        vertical-align: top;\n",
       "    }\n",
       "\n",
       "    .dataframe thead th {\n",
       "        text-align: right;\n",
       "    }\n",
       "</style>\n",
       "<table border=\"1\" class=\"dataframe\">\n",
       "  <thead>\n",
       "    <tr style=\"text-align: right;\">\n",
       "      <th></th>\n",
       "      <th>index</th>\n",
       "      <th>Order ID</th>\n",
       "      <th>Cust ID</th>\n",
       "      <th>Gender</th>\n",
       "      <th>Age</th>\n",
       "      <th>Date</th>\n",
       "      <th>Status</th>\n",
       "      <th>Channel</th>\n",
       "      <th>SKU</th>\n",
       "      <th>Category</th>\n",
       "      <th>Size</th>\n",
       "      <th>Qty</th>\n",
       "      <th>currency</th>\n",
       "      <th>Amount</th>\n",
       "      <th>ship-city</th>\n",
       "      <th>ship-state</th>\n",
       "      <th>ship-postal-code</th>\n",
       "      <th>ship-country</th>\n",
       "      <th>B2B</th>\n",
       "    </tr>\n",
       "  </thead>\n",
       "  <tbody>\n",
       "    <tr>\n",
       "      <th>0</th>\n",
       "      <td>1</td>\n",
       "      <td>171-1029312-3038738</td>\n",
       "      <td>1029312</td>\n",
       "      <td>Women</td>\n",
       "      <td>44</td>\n",
       "      <td>2022-12-04</td>\n",
       "      <td>Delivered</td>\n",
       "      <td>Myntra</td>\n",
       "      <td>JNE1233-BLUE-KR-031-XXL</td>\n",
       "      <td>kurta</td>\n",
       "      <td>XXL</td>\n",
       "      <td>1</td>\n",
       "      <td>INR</td>\n",
       "      <td>376</td>\n",
       "      <td>MOHALI</td>\n",
       "      <td>PUNJAB</td>\n",
       "      <td>140301</td>\n",
       "      <td>IN</td>\n",
       "      <td>False</td>\n",
       "    </tr>\n",
       "    <tr>\n",
       "      <th>1</th>\n",
       "      <td>2</td>\n",
       "      <td>405-2183842-2225946</td>\n",
       "      <td>2183842</td>\n",
       "      <td>Women</td>\n",
       "      <td>29</td>\n",
       "      <td>2022-12-04</td>\n",
       "      <td>Delivered</td>\n",
       "      <td>Ajio</td>\n",
       "      <td>SET414-KR-NP-L</td>\n",
       "      <td>Set</td>\n",
       "      <td>L</td>\n",
       "      <td>1</td>\n",
       "      <td>INR</td>\n",
       "      <td>1449</td>\n",
       "      <td>GURUGRAM</td>\n",
       "      <td>HARYANA</td>\n",
       "      <td>122002</td>\n",
       "      <td>IN</td>\n",
       "      <td>False</td>\n",
       "    </tr>\n",
       "    <tr>\n",
       "      <th>2</th>\n",
       "      <td>3</td>\n",
       "      <td>171-1641533-8921966</td>\n",
       "      <td>1641533</td>\n",
       "      <td>Women</td>\n",
       "      <td>67</td>\n",
       "      <td>2022-12-04</td>\n",
       "      <td>Delivered</td>\n",
       "      <td>Myntra</td>\n",
       "      <td>SET261-KR-PP-S</td>\n",
       "      <td>Set</td>\n",
       "      <td>S</td>\n",
       "      <td>1</td>\n",
       "      <td>INR</td>\n",
       "      <td>453</td>\n",
       "      <td>KOLKATA</td>\n",
       "      <td>WEST BENGAL</td>\n",
       "      <td>700029</td>\n",
       "      <td>IN</td>\n",
       "      <td>False</td>\n",
       "    </tr>\n",
       "    <tr>\n",
       "      <th>3</th>\n",
       "      <td>4</td>\n",
       "      <td>404-7490807-6300351</td>\n",
       "      <td>7490807</td>\n",
       "      <td>Women</td>\n",
       "      <td>20</td>\n",
       "      <td>2022-12-04</td>\n",
       "      <td>Delivered</td>\n",
       "      <td>Amazon</td>\n",
       "      <td>SET110-KR-PP-M</td>\n",
       "      <td>Set</td>\n",
       "      <td>M</td>\n",
       "      <td>1</td>\n",
       "      <td>INR</td>\n",
       "      <td>729</td>\n",
       "      <td>THANJAVUR</td>\n",
       "      <td>TAMIL NADU</td>\n",
       "      <td>613007</td>\n",
       "      <td>IN</td>\n",
       "      <td>False</td>\n",
       "    </tr>\n",
       "    <tr>\n",
       "      <th>4</th>\n",
       "      <td>5</td>\n",
       "      <td>403-9293516-4577154</td>\n",
       "      <td>9293516</td>\n",
       "      <td>Women</td>\n",
       "      <td>62</td>\n",
       "      <td>2022-12-04</td>\n",
       "      <td>Delivered</td>\n",
       "      <td>Myntra</td>\n",
       "      <td>JNE2294-KR-A-XXL</td>\n",
       "      <td>kurta</td>\n",
       "      <td>XXL</td>\n",
       "      <td>1</td>\n",
       "      <td>INR</td>\n",
       "      <td>544</td>\n",
       "      <td>GURUGRAM</td>\n",
       "      <td>HARYANA</td>\n",
       "      <td>122001</td>\n",
       "      <td>IN</td>\n",
       "      <td>False</td>\n",
       "    </tr>\n",
       "  </tbody>\n",
       "</table>\n",
       "</div>"
      ],
      "text/plain": [
       "   index             Order ID  Cust ID Gender  Age       Date     Status  \\\n",
       "0      1  171-1029312-3038738  1029312  Women   44 2022-12-04  Delivered   \n",
       "1      2  405-2183842-2225946  2183842  Women   29 2022-12-04  Delivered   \n",
       "2      3  171-1641533-8921966  1641533  Women   67 2022-12-04  Delivered   \n",
       "3      4  404-7490807-6300351  7490807  Women   20 2022-12-04  Delivered   \n",
       "4      5  403-9293516-4577154  9293516  Women   62 2022-12-04  Delivered   \n",
       "\n",
       "  Channel                       SKU Category Size Qty currency  Amount  \\\n",
       "0   Myntra  JNE1233-BLUE-KR-031-XXL    kurta  XXL   1      INR     376   \n",
       "1     Ajio           SET414-KR-NP-L      Set    L   1      INR    1449   \n",
       "2   Myntra           SET261-KR-PP-S      Set    S   1      INR     453   \n",
       "3   Amazon           SET110-KR-PP-M      Set    M   1      INR     729   \n",
       "4   Myntra         JNE2294-KR-A-XXL    kurta  XXL   1      INR     544   \n",
       "\n",
       "   ship-city   ship-state  ship-postal-code ship-country    B2B  \n",
       "0     MOHALI       PUNJAB            140301           IN  False  \n",
       "1   GURUGRAM      HARYANA            122002           IN  False  \n",
       "2    KOLKATA  WEST BENGAL            700029           IN  False  \n",
       "3  THANJAVUR   TAMIL NADU            613007           IN  False  \n",
       "4   GURUGRAM      HARYANA            122001           IN  False  "
      ]
     },
     "execution_count": 20,
     "metadata": {},
     "output_type": "execute_result"
    }
   ],
   "source": [
    "def load_data():\n",
    "    return pd.read_excel('Vrinda Store Data Analysis(1).xlsx')\n",
    "\n",
    "data = load_data()\n",
    "data['Date'] = pd.to_datetime(data['Date'])\n",
    "data.head()"
   ]
  },
  {
   "cell_type": "raw",
   "metadata": {},
   "source": [
    "Analytical Insights\n",
    "\n",
    "Sales Trends and Seasonality:\n",
    "Periodic Analysis: Identifying how sales fluctuate over time (daily, weekly, monthly) can reveal patterns such as peak shopping times or seasonal trends.\n",
    "Growth Trends: Observing whether there is an overall upward or downward trend in sales can indicate the health and growth of the business.\n",
    "\n",
    "Customer Demographics:\n",
    "Target Audience: The age and gender distribution provides insights into the primary customer base of the store. This can inform targeted marketing and product selection.\n",
    "Market Expansion Opportunities: Understanding which demographics are underrepresented in the customer base could reveal new market opportunities.\n",
    "\n",
    "Product Performance:\n",
    "Category Sales: Analysis of sales by category helps identify which products are the most popular and profitable. This can guide inventory management and promotional strategies.\n",
    "Price Points: Examining the range of transaction values can offer insights into the spending habits of customers.\n",
    "\n",
    "Geographic Reach:\n",
    "Regional Performance: The distribution of sales across different regions indicates where the business is performing well and where there may be room for market penetration.\n",
    "Logistics Optimization: Sales concentration in certain areas could suggest where to focus logistics and distribution resources.\n",
    "\n",
    "Order Status and Efficiency:\n",
    "Operational Efficiency: The breakdown of order statuses (like 'Delivered', 'Pending') provides an understanding of the operational efficiency and can highlight areas for improvement in the supply chain or customer service.\n",
    "Customer Experience: A high rate of order fulfillment (Delivered status) is typically indicative of a positive customer experience.\n",
    "\n",
    "Sales Channels:\n",
    "Channel Effectiveness: If the dataset includes sales channels (e.g., online, in-store, third-party platforms), analyzing which channels are most effective can inform marketing and sales strategies.\n",
    "\n",
    "Revenue Streams:\n",
    "Main Revenue Drivers: Identifying the main drivers of revenue (e.g., specific products, customer segments, regions) can help focus business efforts and resources.\n",
    "Revenue Fluctuations: Understanding the causes of any significant fluctuations in revenue can aid in strategic planning and risk management."
   ]
  },
  {
   "cell_type": "markdown",
   "metadata": {
    "id": "0aRnWqRlPwEd"
   },
   "source": [
    "# Date Filter"
   ]
  },
  {
   "cell_type": "markdown",
   "metadata": {
    "id": "Ds7_uHrbPsyz"
   },
   "source": []
  },
  {
   "cell_type": "code",
   "execution_count": 21,
   "metadata": {
    "id": "4C15yrpeM-cU"
   },
   "outputs": [],
   "source": [
    "# Sidebar for date range selection\n",
    "st.sidebar.header('Filters')\n",
    "date_range = st.sidebar.date_input(\"Select Date Range\", [])\n",
    "\n",
    "# Filtering data based on date range\n",
    "if date_range:\n",
    "    start_date = pd.to_datetime(date_range[0])\n",
    "    end_date = pd.to_datetime(date_range[1])\n",
    "    data = data[(data['Date'] >= start_date) & (data['Date'] <= end_date)]"
   ]
  },
  {
   "cell_type": "markdown",
   "metadata": {
    "id": "3eMlpySnP79S"
   },
   "source": [
    "# Sales Over Time"
   ]
  },
  {
   "cell_type": "code",
   "execution_count": 22,
   "metadata": {
    "colab": {
     "base_uri": "https://localhost:8080/",
     "height": 406
    },
    "id": "rkDzfLZ8M-gw",
    "outputId": "6555da10-3f5e-403e-a297-dd02af251852"
   },
   "outputs": [
    {
     "data": {
      "text/plain": [
       "DeltaGenerator()"
      ]
     },
     "execution_count": 22,
     "metadata": {},
     "output_type": "execute_result"
    }
   ],
   "source": [
    "import matplotlib.dates as mdates\n",
    "\n",
    "# Plot Sales Over Time\n",
    "st.write(\"Sales Over Time:\")\n",
    "sales_over_time = data.groupby('Date')['Amount'].sum()\n",
    "\n",
    "plt.figure(figsize=(10, 5))\n",
    "plt.plot(sales_over_time, marker='o', color='royalblue', linestyle='-')\n",
    "plt.title('Sales Over Time', fontsize=16)\n",
    "plt.xlabel('Date', fontsize=14)\n",
    "plt.ylabel('Sales', fontsize=14)\n",
    "plt.grid(True)\n",
    "plt.gca().xaxis.set_major_formatter(mdates.DateFormatter('%Y-%m-%d'))\n",
    "plt.gca().xaxis.set_major_locator(mdates.DayLocator(interval=15))\n",
    "plt.xticks(rotation=45)\n",
    "plt.tight_layout()\n",
    "st.pyplot(plt)"
   ]
  },
  {
   "cell_type": "markdown",
   "metadata": {},
   "source": [
    "Objective:\n",
    "To analyze the sales data over time to identify trends, patterns, and seasonal variations that can inform business strategy and decision-making.\n",
    "\n",
    "Analysis:\n",
    "\n",
    "Data Utilized: Sales data, including order dates and sales amounts, were compiled and organized to analyze trends over various time frames (daily, monthly, quarterly, or annually).\n",
    "Trend Identification: A time-series analysis was performed to observe the trajectory of sales over the specified periods. This includes identifying upward or downward trends and noting any significant changes or anomalies.\n",
    "Seasonality Assessment: The analysis focused on uncovering seasonal patterns, such as increased sales during holidays or specific months, which could indicate consumer buying behavior aligned with seasonal events or promotions.\n",
    "\n",
    "Interpretations:\n",
    "\n",
    "Overall Sales Trends: The direction of the sales trend (increasing, decreasing, or stable) over time provides a high-level view of business growth or decline. An upward trend indicates growing sales and possibly an expanding customer base, while a downward trend might suggest a need for strategic revision.\n",
    "Seasonal Fluctuations: Identifying periods of higher sales can indicate consumer preferences tied to specific times of the year. For instance, a surge in sales during the holiday season can highlight the effectiveness of holiday promotions.\n",
    "Anomalies and Irregularities: Any unexpected spikes or drops in sales could be linked to external events, operational changes, or marketing campaigns, warranting further investigation.\n",
    "\n",
    "Managerial Implication:\n",
    "\n",
    "Strategic Planning and Forecasting: Insights from sales trends are crucial for forecasting future sales, budget allocation, and inventory management. Understanding peak sales periods ensures adequate stock and staffing levels.\n",
    "Marketing and Promotional Strategies: Knowledge of seasonal trends can guide the timing and nature of marketing campaigns. Aligning promotions with high-sales periods can maximize revenue, while targeted strategies during low-sales periods can help stimulate demand.\n",
    "Business Growth Analysis: Long-term sales trends are indicators of business health and market position. They can inform decisions on expansion, diversification, and investment.\n",
    "Response to Market Dynamics: Quick identification of anomalies allows for a rapid response to market changes or operational challenges, ensuring that the business remains agile and customer-focused."
   ]
  },
  {
   "cell_type": "markdown",
   "metadata": {
    "id": "5JQtSweQQITS"
   },
   "source": [
    "# Sales By Category"
   ]
  },
  {
   "cell_type": "code",
   "execution_count": 23,
   "metadata": {
    "colab": {
     "base_uri": "https://localhost:8080/"
    },
    "id": "vxoZ8jUeM-k1",
    "outputId": "96cee6eb-e4e5-4769-ed94-641a70af98bb"
   },
   "outputs": [
    {
     "data": {
      "text/plain": [
       "DeltaGenerator()"
      ]
     },
     "execution_count": 23,
     "metadata": {},
     "output_type": "execute_result"
    }
   ],
   "source": [
    "# Sales by Category\n",
    "st.write(\"Sales by Category:\")\n",
    "sales_by_category = data.groupby('Category')['Amount'].sum()\n",
    "\n",
    "plt.figure(figsize=(10, 6))\n",
    "sales_by_category.plot(kind='bar', color='skyblue')\n",
    "plt.title('Sales by Category', fontsize=16)\n",
    "plt.xlabel('Category', fontsize=14)\n",
    "plt.ylabel('Sales', fontsize=14)\n",
    "plt.xticks(rotation=45)\n",
    "plt.grid(axis='y')\n",
    "st.pyplot(plt)"
   ]
  },
  {
   "cell_type": "markdown",
   "metadata": {},
   "source": [
    "Objective:\n",
    "To evaluate the sales performance across different product categories, aiming to identify which categories are most popular, profitable, and contribute significantly to the overall revenue.\n",
    "\n",
    "Analysis:\n",
    "\n",
    "Data Utilization: The analysis involved grouping sales data by product categories and summing up the sales amounts within each category.\n",
    "Category Comparison: The total sales for each category were compared to identify which categories are the top performers and which are underperforming.\n",
    "Sales Contribution: The contribution of each category to the total sales was assessed to understand their relative importance to the business’s revenue.\n",
    "\n",
    "Interpretations:\n",
    "\n",
    "Top Performing Categories: Identifying categories with the highest sales can reveal customer preferences and market trends. These categories are likely driving the bulk of the revenue and might be reflective of effective product placement or marketing.\n",
    "Underperforming Categories: Categories with lower sales may indicate a lack of customer interest or market saturation. These require further analysis to determine if they should be maintained, improved, or phased out.\n",
    "Market Trends and Preferences: Fluctuations in category popularity can signal changing market trends or shifts in consumer preferences, necessitating adjustments in inventory or marketing strategies.\n",
    "\n",
    "Managerial Implication:\n",
    "\n",
    "Inventory Management: Insights from category sales performance can guide inventory stocking decisions, ensuring that high-demand products are adequately stocked while reducing excess inventory in less popular categories.\n",
    "Marketing Focus: Marketing efforts can be strategically aligned with the top-performing categories to maximize their revenue potential. For underperforming categories, reevaluation of marketing strategies or product improvements might be necessary.\n",
    "Product Development and Diversification: Understanding which categories are popular can inform product development strategies, potentially leading to the introduction of new products within these categories or diversification into related areas.\n",
    "Pricing Strategies: Sales data by category can inform pricing strategies, such as adjusting prices to optimize sales in competitive categories or using promotional offers to boost interest in less popular categories."
   ]
  },
  {
   "cell_type": "markdown",
   "metadata": {
    "id": "XZHbaGk2QYGq"
   },
   "source": [
    "# Customer Demographics"
   ]
  },
  {
   "cell_type": "code",
   "execution_count": 24,
   "metadata": {
    "colab": {
     "base_uri": "https://localhost:8080/"
    },
    "id": "-7-PiJa2M-oz",
    "outputId": "e2d925a2-37f4-4e9d-a74d-13291446de49"
   },
   "outputs": [
    {
     "data": {
      "text/plain": [
       "DeltaGenerator()"
      ]
     },
     "execution_count": 24,
     "metadata": {},
     "output_type": "execute_result"
    }
   ],
   "source": [
    "# Customer Demographics\n",
    "st.write(\"Customer Demographics:\")\n",
    "\n",
    "# Age Distribution\n",
    "plt.figure(figsize=(10, 5))\n",
    "plt.hist(data['Age'], bins=20, color='lightgreen', edgecolor='black')\n",
    "plt.title('Age Distribution of Customers', fontsize=16)\n",
    "plt.xlabel('Age', fontsize=14)\n",
    "plt.ylabel('Number of Customers', fontsize=14)\n",
    "plt.grid(axis='y')\n",
    "st.pyplot(plt)\n",
    "\n",
    "# Gender Distribution\n",
    "gender_count = data['Gender'].value_counts()\n",
    "\n",
    "plt.figure(figsize=(10, 5))\n",
    "gender_count.plot(kind='bar', color=['salmon', 'lightblue'])\n",
    "plt.title('Gender Distribution of Customers', fontsize=16)\n",
    "plt.xlabel('Gender', fontsize=14)\n",
    "plt.ylabel('Number of Customers', fontsize=14)\n",
    "plt.xticks(rotation=0)\n",
    "st.pyplot(plt)"
   ]
  },
  {
   "cell_type": "markdown",
   "metadata": {},
   "source": [
    "Objective:\n",
    "To analyze the demographic profile of the customer base, focusing on age and gender distribution. This analysis aims to understand the composition of the store's clientele and inform targeted marketing and product strategies.\n",
    "\n",
    "Analysis:\n",
    "\n",
    "Data Utilization: The dataset includes customer age and gender, which were used to assess the demographic spread of the customer base.\n",
    "Age Distribution Analysis: The age data was categorized into meaningful groups (e.g., 18-25, 26-35, etc.) to observe predominant age segments.\n",
    "Gender Distribution Analysis: The proportion of customers across different gender groups was calculated to understand gender-wise division in the customer base.\n",
    "\n",
    "Interpretations:\n",
    "\n",
    "Predominant Age Groups: Identifying which age groups are most prevalent among customers helps in understanding the primary market. For instance, a younger customer base might indicate a trend towards more contemporary or trendy products.\n",
    "Age-Related Trends: Different age groups might exhibit unique buying patterns, preferences, and spending behavior. Such insights are crucial for tailoring product offerings, marketing messages, and customer experience.\n",
    "Gender Insights: Understanding the gender split is vital for developing gender-specific marketing strategies and product lines. It can also highlight whether the store's product range appeals equally to all genders or if there are opportunities to broaden the appeal.\n",
    "\n",
    "Managerial Implication:\n",
    "\n",
    "Targeted Marketing Initiatives: Insights into the age and gender demographics enable the creation of targeted marketing campaigns. For instance, digital marketing strategies might be more effective for a younger audience, while traditional media could be better for older demographics.\n",
    "Product Assortment and Development: The demographic data can guide decisions about product assortment, ensuring that the products align with the preferences of the predominant customer segments. This can also influence new product development, ensuring that new offerings resonate with the target audience.\n",
    "Customer Engagement and Loyalty Programs: Tailoring customer engagement strategies and loyalty programs to suit the dominant demographic groups can enhance customer retention and satisfaction. For example, loyalty programs for a younger demographic might focus on digital rewards and social media engagement.\n",
    "Inclusive Business Practices: A balanced gender distribution might suggest a broader appeal of the store's offerings. However, a skewed distribution could indicate the need for more inclusive marketing and product diversification to attract underrepresented groups."
   ]
  },
  {
   "cell_type": "markdown",
   "metadata": {
    "id": "P6Qc4g2fQj_-"
   },
   "source": [
    "# Geographic Distribution"
   ]
  },
  {
   "cell_type": "code",
   "execution_count": 25,
   "metadata": {
    "colab": {
     "base_uri": "https://localhost:8080/"
    },
    "id": "n2TEFZYyM-sy",
    "outputId": "43415dbe-eeda-4d9f-dd55-8c1e837e20af"
   },
   "outputs": [
    {
     "data": {
      "text/plain": [
       "DeltaGenerator()"
      ]
     },
     "execution_count": 25,
     "metadata": {},
     "output_type": "execute_result"
    }
   ],
   "source": [
    "# Geographic Distribution of Sales\n",
    "st.write(\"Geographic Distribution of Sales:\")\n",
    "sales_by_state = data.groupby('ship-state')['Amount'].sum()\n",
    "\n",
    "plt.figure(figsize=(12, 6))\n",
    "sales_by_state.plot(kind='bar', color='purple')\n",
    "plt.title('Geographic Distribution of Sales', fontsize=16)\n",
    "plt.xlabel('State', fontsize=14)\n",
    "plt.ylabel('Sales', fontsize=14)\n",
    "plt.xticks(rotation=90)\n",
    "plt.grid(axis='y')\n",
    "st.pyplot(plt)"
   ]
  },
  {
   "cell_type": "markdown",
   "metadata": {},
   "source": [
    "Objective:\n",
    "To examine the distribution of sales across various geographic regions, specifically by analyzing sales data across different states. This analysis aims to identify key markets, regional sales performance, and potential areas for market expansion.\n",
    "\n",
    "Analysis:\n",
    "\n",
    "Data Utilization: Sales data was grouped by the shipping state (or region) to assess the total sales volume in each area.\n",
    "Regional Sales Comparison: A comparative analysis of sales across different states provided an understanding of which regions contribute most to the overall sales and which are underperforming.\n",
    "Market Penetration and Reach: The data was also used to gauge the store's market penetration in various regions, identifying both well-established markets and regions with potential growth opportunities.\n",
    "\n",
    "Interpretations:\n",
    "\n",
    "High-Performance Regions: States with high sales volumes indicate strong market presence and customer base. These regions might be driving the majority of the revenue and can be considered the store's stronghold markets.\n",
    "Areas for Growth: Regions with lower sales figures may represent untapped or underpenetrated markets, suggesting potential areas for business expansion or increased marketing efforts.\n",
    "Regional Preferences and Trends: Variations in sales across regions can highlight regional market trends, customer preferences, and demand patterns, which can be crucial for region-specific strategies.\n",
    "\n",
    "Managerial Implication:\n",
    "\n",
    "Resource Allocation and Marketing: Insights into regional sales performance can guide the allocation of resources, including marketing budgets, inventory, and logistics. Focusing efforts on high-performing regions can maximize ROI, while targeted strategies can be developed for regions with growth potential.\n",
    "Strategic Expansion Planning: Understanding geographic sales distribution aids in identifying potential new markets for expansion. Decisions about opening new physical stores, optimizing distribution channels, or tailoring online marketing strategies can be informed by these insights.\n",
    "Customized Regional Strategies: Recognizing that different regions may have varying preferences and needs, businesses can customize their product offerings, marketing messages, and customer service approaches to resonate with regional market characteristics.\n",
    "Supply Chain Optimization: Analysis of sales by region can also inform supply chain strategies, helping to optimize distribution and logistics for efficiency and cost-effectiveness. This includes decisions on warehousing locations, shipping methods, and inventory management tailored to regional demand.\n",
    "Competitive Analysis: Understanding the store's performance in various regions relative to competitors can highlight competitive strengths and weaknesses. This allows for strategic positioning and targeted competitive actions in specific regions."
   ]
  },
  {
   "cell_type": "markdown",
   "metadata": {
    "id": "FDvK8GuDQqxm"
   },
   "source": [
    "# Order Status Summary"
   ]
  },
  {
   "cell_type": "code",
   "execution_count": 26,
   "metadata": {
    "colab": {
     "base_uri": "https://localhost:8080/"
    },
    "id": "6LrF71SCM-up",
    "outputId": "aa8cca2e-0bd0-476d-c9d1-dcfdb8957da1"
   },
   "outputs": [
    {
     "data": {
      "text/plain": [
       "DeltaGenerator()"
      ]
     },
     "execution_count": 26,
     "metadata": {},
     "output_type": "execute_result"
    }
   ],
   "source": [
    "# Order Status Summary\n",
    "st.write(\"Order Status Summary:\")\n",
    "status_count = data['Status'].value_counts()\n",
    "\n",
    "plt.figure(figsize=(8, 8))\n",
    "status_count.plot(kind='pie', autopct='%1.1f%%', startangle=140, colors=['gold', 'lightcoral', 'lightskyblue'])\n",
    "plt.title('Order Status Summary', fontsize=16)\n",
    "plt.ylabel('')  # Hide the y-label\n",
    "st.pyplot(plt)"
   ]
  },
  {
   "cell_type": "markdown",
   "metadata": {},
   "source": [
    "Objective:\n",
    "To assess the distribution of order statuses within the dataset, such as 'Delivered', 'Pending', 'Canceled', etc. This analysis aims to understand the efficiency of order processing and fulfillment, as well as customer satisfaction levels.\n",
    "\n",
    "Analysis:\n",
    "\n",
    "Data Utilization: The analysis involved categorizing orders based on their status and calculating the frequency of each status.\n",
    "Status Distribution: The distribution of order statuses was visualized using a pie chart, providing a clear and immediate understanding of the proportion of each status category.\n",
    "Operational Insight: The count and proportion of each order status offered insights into the operational aspects of order processing, delivery efficiency, and potential bottlenecks.\n",
    "\n",
    "Interpretations:\n",
    "\n",
    "Order Fulfillment Efficiency: A high proportion of 'Delivered' orders suggests effective order processing and fulfillment operations. It indicates that the majority of customers are receiving their orders as expected.\n",
    "Potential Operational Issues: A significant number of orders in statuses like 'Pending', 'Canceled', or other non-delivery statuses could indicate issues in the supply chain, inventory management, or customer service.\n",
    "Customer Experience: The status distribution can be a key indicator of customer satisfaction. High fulfillment rates generally correlate with positive customer experiences, while a significant number of delayed or canceled orders might lead to customer dissatisfaction.\n",
    "\n",
    "Managerial Implication:\n",
    "\n",
    "Process Optimization: Identifying bottlenecks or inefficiencies in order processing can lead to targeted improvements in logistics, inventory management, and customer service.\n",
    "Customer Communication: For orders that are in 'Pending' or similar statuses, proactive communication strategies can be implemented to manage customer expectations and enhance satisfaction.\n",
    "Policy and Strategy Review: High rates of order cancellations or returns might necessitate a review of policies, product quality, or customer engagement strategies.\n",
    "Predictive Analysis for Demand Planning: Understanding the patterns in order statuses can assist in predictive analysis for better demand planning and inventory control."
   ]
  },
  {
   "cell_type": "markdown",
   "metadata": {
    "id": "Dumg-ZgrQzsC"
   },
   "source": [
    "# Interactive Tables"
   ]
  },
  {
   "cell_type": "code",
   "execution_count": 27,
   "metadata": {
    "colab": {
     "base_uri": "https://localhost:8080/"
    },
    "id": "WAgb9cyhQy0X",
    "outputId": "f04617ba-37de-426c-9661-74e90d089052"
   },
   "outputs": [
    {
     "data": {
      "text/plain": [
       "DeltaGenerator()"
      ]
     },
     "execution_count": 27,
     "metadata": {},
     "output_type": "execute_result"
    }
   ],
   "source": [
    "st.write(\"Data Overview:\")\n",
    "st.dataframe(data.head())"
   ]
  }
 ],
 "metadata": {
  "colab": {
   "provenance": []
  },
  "kernelspec": {
   "display_name": "Python 3 (ipykernel)",
   "language": "python",
   "name": "python3"
  },
  "language_info": {
   "codemirror_mode": {
    "name": "ipython",
    "version": 3
   },
   "file_extension": ".py",
   "mimetype": "text/x-python",
   "name": "python",
   "nbconvert_exporter": "python",
   "pygments_lexer": "ipython3",
   "version": "3.11.3"
  }
 },
 "nbformat": 4,
 "nbformat_minor": 1
}
