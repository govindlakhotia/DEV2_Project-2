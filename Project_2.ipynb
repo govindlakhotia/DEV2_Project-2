{
 "cells": [
  {
   "cell_type": "code",
   "execution_count": 19,
   "metadata": {
    "id": "j-1vOyfCM7uV"
   },
   "outputs": [],
   "source": [
    "import streamlit as st\n",
    "import pandas as pd\n",
    "import matplotlib.pyplot as plt\n",
    "from datetime import datetime"
   ]
  },
  {
   "cell_type": "code",
   "execution_count": 20,
   "metadata": {
    "colab": {
     "base_uri": "https://localhost:8080/",
     "height": 400
    },
    "id": "nAs519r-M-X8",
    "outputId": "62fa8a6c-e366-4a51-fe09-c7dbbc09e593"
   },
   "outputs": [
    {
     "data": {
      "text/html": [
       "<div>\n",
       "<style scoped>\n",
       "    .dataframe tbody tr th:only-of-type {\n",
       "        vertical-align: middle;\n",
       "    }\n",
       "\n",
       "    .dataframe tbody tr th {\n",
       "        vertical-align: top;\n",
       "    }\n",
       "\n",
       "    .dataframe thead th {\n",
       "        text-align: right;\n",
       "    }\n",
       "</style>\n",
       "<table border=\"1\" class=\"dataframe\">\n",
       "  <thead>\n",
       "    <tr style=\"text-align: right;\">\n",
       "      <th></th>\n",
       "      <th>index</th>\n",
       "      <th>Order ID</th>\n",
       "      <th>Cust ID</th>\n",
       "      <th>Gender</th>\n",
       "      <th>Age</th>\n",
       "      <th>Date</th>\n",
       "      <th>Status</th>\n",
       "      <th>Channel</th>\n",
       "      <th>SKU</th>\n",
       "      <th>Category</th>\n",
       "      <th>Size</th>\n",
       "      <th>Qty</th>\n",
       "      <th>currency</th>\n",
       "      <th>Amount</th>\n",
       "      <th>ship-city</th>\n",
       "      <th>ship-state</th>\n",
       "      <th>ship-postal-code</th>\n",
       "      <th>ship-country</th>\n",
       "      <th>B2B</th>\n",
       "    </tr>\n",
       "  </thead>\n",
       "  <tbody>\n",
       "    <tr>\n",
       "      <th>0</th>\n",
       "      <td>1</td>\n",
       "      <td>171-1029312-3038738</td>\n",
       "      <td>1029312</td>\n",
       "      <td>Women</td>\n",
       "      <td>44</td>\n",
       "      <td>2022-12-04</td>\n",
       "      <td>Delivered</td>\n",
       "      <td>Myntra</td>\n",
       "      <td>JNE1233-BLUE-KR-031-XXL</td>\n",
       "      <td>kurta</td>\n",
       "      <td>XXL</td>\n",
       "      <td>1</td>\n",
       "      <td>INR</td>\n",
       "      <td>376</td>\n",
       "      <td>MOHALI</td>\n",
       "      <td>PUNJAB</td>\n",
       "      <td>140301</td>\n",
       "      <td>IN</td>\n",
       "      <td>False</td>\n",
       "    </tr>\n",
       "    <tr>\n",
       "      <th>1</th>\n",
       "      <td>2</td>\n",
       "      <td>405-2183842-2225946</td>\n",
       "      <td>2183842</td>\n",
       "      <td>Women</td>\n",
       "      <td>29</td>\n",
       "      <td>2022-12-04</td>\n",
       "      <td>Delivered</td>\n",
       "      <td>Ajio</td>\n",
       "      <td>SET414-KR-NP-L</td>\n",
       "      <td>Set</td>\n",
       "      <td>L</td>\n",
       "      <td>1</td>\n",
       "      <td>INR</td>\n",
       "      <td>1449</td>\n",
       "      <td>GURUGRAM</td>\n",
       "      <td>HARYANA</td>\n",
       "      <td>122002</td>\n",
       "      <td>IN</td>\n",
       "      <td>False</td>\n",
       "    </tr>\n",
       "    <tr>\n",
       "      <th>2</th>\n",
       "      <td>3</td>\n",
       "      <td>171-1641533-8921966</td>\n",
       "      <td>1641533</td>\n",
       "      <td>Women</td>\n",
       "      <td>67</td>\n",
       "      <td>2022-12-04</td>\n",
       "      <td>Delivered</td>\n",
       "      <td>Myntra</td>\n",
       "      <td>SET261-KR-PP-S</td>\n",
       "      <td>Set</td>\n",
       "      <td>S</td>\n",
       "      <td>1</td>\n",
       "      <td>INR</td>\n",
       "      <td>453</td>\n",
       "      <td>KOLKATA</td>\n",
       "      <td>WEST BENGAL</td>\n",
       "      <td>700029</td>\n",
       "      <td>IN</td>\n",
       "      <td>False</td>\n",
       "    </tr>\n",
       "    <tr>\n",
       "      <th>3</th>\n",
       "      <td>4</td>\n",
       "      <td>404-7490807-6300351</td>\n",
       "      <td>7490807</td>\n",
       "      <td>Women</td>\n",
       "      <td>20</td>\n",
       "      <td>2022-12-04</td>\n",
       "      <td>Delivered</td>\n",
       "      <td>Amazon</td>\n",
       "      <td>SET110-KR-PP-M</td>\n",
       "      <td>Set</td>\n",
       "      <td>M</td>\n",
       "      <td>1</td>\n",
       "      <td>INR</td>\n",
       "      <td>729</td>\n",
       "      <td>THANJAVUR</td>\n",
       "      <td>TAMIL NADU</td>\n",
       "      <td>613007</td>\n",
       "      <td>IN</td>\n",
       "      <td>False</td>\n",
       "    </tr>\n",
       "    <tr>\n",
       "      <th>4</th>\n",
       "      <td>5</td>\n",
       "      <td>403-9293516-4577154</td>\n",
       "      <td>9293516</td>\n",
       "      <td>Women</td>\n",
       "      <td>62</td>\n",
       "      <td>2022-12-04</td>\n",
       "      <td>Delivered</td>\n",
       "      <td>Myntra</td>\n",
       "      <td>JNE2294-KR-A-XXL</td>\n",
       "      <td>kurta</td>\n",
       "      <td>XXL</td>\n",
       "      <td>1</td>\n",
       "      <td>INR</td>\n",
       "      <td>544</td>\n",
       "      <td>GURUGRAM</td>\n",
       "      <td>HARYANA</td>\n",
       "      <td>122001</td>\n",
       "      <td>IN</td>\n",
       "      <td>False</td>\n",
       "    </tr>\n",
       "  </tbody>\n",
       "</table>\n",
       "</div>"
      ],
      "text/plain": [
       "   index             Order ID  Cust ID Gender  Age       Date     Status  \\\n",
       "0      1  171-1029312-3038738  1029312  Women   44 2022-12-04  Delivered   \n",
       "1      2  405-2183842-2225946  2183842  Women   29 2022-12-04  Delivered   \n",
       "2      3  171-1641533-8921966  1641533  Women   67 2022-12-04  Delivered   \n",
       "3      4  404-7490807-6300351  7490807  Women   20 2022-12-04  Delivered   \n",
       "4      5  403-9293516-4577154  9293516  Women   62 2022-12-04  Delivered   \n",
       "\n",
       "  Channel                       SKU Category Size Qty currency  Amount  \\\n",
       "0   Myntra  JNE1233-BLUE-KR-031-XXL    kurta  XXL   1      INR     376   \n",
       "1     Ajio           SET414-KR-NP-L      Set    L   1      INR    1449   \n",
       "2   Myntra           SET261-KR-PP-S      Set    S   1      INR     453   \n",
       "3   Amazon           SET110-KR-PP-M      Set    M   1      INR     729   \n",
       "4   Myntra         JNE2294-KR-A-XXL    kurta  XXL   1      INR     544   \n",
       "\n",
       "   ship-city   ship-state  ship-postal-code ship-country    B2B  \n",
       "0     MOHALI       PUNJAB            140301           IN  False  \n",
       "1   GURUGRAM      HARYANA            122002           IN  False  \n",
       "2    KOLKATA  WEST BENGAL            700029           IN  False  \n",
       "3  THANJAVUR   TAMIL NADU            613007           IN  False  \n",
       "4   GURUGRAM      HARYANA            122001           IN  False  "
      ]
     },
     "execution_count": 20,
     "metadata": {},
     "output_type": "execute_result"
    }
   ],
   "source": [
    "def load_data():\n",
    "    return pd.read_excel('Vrinda Store Data Analysis(1).xlsx')\n",
    "\n",
    "data = load_data()\n",
    "data['Date'] = pd.to_datetime(data['Date'])\n",
    "data.head()"
   ]
  },
  {
   "cell_type": "raw",
   "metadata": {},
   "source": [
    "Analytical Insights\n",
    "\n",
    "Sales Trends and Seasonality:\n",
    "Periodic Analysis: Identifying how sales fluctuate over time (daily, weekly, monthly) can reveal patterns such as peak shopping times or seasonal trends.\n",
    "Growth Trends: Observing whether there is an overall upward or downward trend in sales can indicate the health and growth of the business.\n",
    "\n",
    "Customer Demographics:\n",
    "Target Audience: The age and gender distribution provides insights into the primary customer base of the store. This can inform targeted marketing and product selection.\n",
    "Market Expansion Opportunities: Understanding which demographics are underrepresented in the customer base could reveal new market opportunities.\n",
    "\n",
    "Product Performance:\n",
    "Category Sales: Analysis of sales by category helps identify which products are the most popular and profitable. This can guide inventory management and promotional strategies.\n",
    "Price Points: Examining the range of transaction values can offer insights into the spending habits of customers.\n",
    "\n",
    "Geographic Reach:\n",
    "Regional Performance: The distribution of sales across different regions indicates where the business is performing well and where there may be room for market penetration.\n",
    "Logistics Optimization: Sales concentration in certain areas could suggest where to focus logistics and distribution resources.\n",
    "\n",
    "Order Status and Efficiency:\n",
    "Operational Efficiency: The breakdown of order statuses (like 'Delivered', 'Pending') provides an understanding of the operational efficiency and can highlight areas for improvement in the supply chain or customer service.\n",
    "Customer Experience: A high rate of order fulfillment (Delivered status) is typically indicative of a positive customer experience.\n",
    "\n",
    "Sales Channels:\n",
    "Channel Effectiveness: If the dataset includes sales channels (e.g., online, in-store, third-party platforms), analyzing which channels are most effective can inform marketing and sales strategies.\n",
    "\n",
    "Revenue Streams:\n",
    "Main Revenue Drivers: Identifying the main drivers of revenue (e.g., specific products, customer segments, regions) can help focus business efforts and resources.\n",
    "Revenue Fluctuations: Understanding the causes of any significant fluctuations in revenue can aid in strategic planning and risk management."
   ]
  },
  {
   "cell_type": "markdown",
   "metadata": {
    "id": "0aRnWqRlPwEd"
   },
   "source": [
    "# Date Filter"
   ]
  },
  {
   "cell_type": "markdown",
   "metadata": {
    "id": "Ds7_uHrbPsyz"
   },
   "source": []
  },
  {
   "cell_type": "code",
   "execution_count": 21,
   "metadata": {
    "id": "4C15yrpeM-cU"
   },
   "outputs": [],
   "source": [
    "# Sidebar for date range selection\n",
    "st.sidebar.header('Filters')\n",
    "date_range = st.sidebar.date_input(\"Select Date Range\", [])\n",
    "\n",
    "# Filtering data based on date range\n",
    "if date_range:\n",
    "    start_date = pd.to_datetime(date_range[0])\n",
    "    end_date = pd.to_datetime(date_range[1])\n",
    "    data = data[(data['Date'] >= start_date) & (data['Date'] <= end_date)]"
   ]
  },
  {
   "cell_type": "markdown",
   "metadata": {
    "id": "3eMlpySnP79S"
   },
   "source": [
    "# Sales Over Time"
   ]
  },
  {
   "cell_type": "code",
   "execution_count": 22,
   "metadata": {
    "colab": {
     "base_uri": "https://localhost:8080/",
     "height": 406
    },
    "id": "rkDzfLZ8M-gw",
    "outputId": "6555da10-3f5e-403e-a297-dd02af251852"
   },
   "outputs": [
    {
     "data": {
      "text/plain": [
       "DeltaGenerator()"
      ]
     },
     "execution_count": 22,
     "metadata": {},
     "output_type": "execute_result"
    }
   ],
   "source": [
    "import matplotlib.dates as mdates\n",
    "\n",
    "# Plot Sales Over Time\n",
    "st.write(\"Sales Over Time:\")\n",
    "sales_over_time = data.groupby('Date')['Amount'].sum()\n",
    "\n",
    "plt.figure(figsize=(10, 5))\n",
    "plt.plot(sales_over_time, marker='o', color='royalblue', linestyle='-')\n",
    "plt.title('Sales Over Time', fontsize=16)\n",
    "plt.xlabel('Date', fontsize=14)\n",
    "plt.ylabel('Sales', fontsize=14)\n",
    "plt.grid(True)\n",
    "plt.gca().xaxis.set_major_formatter(mdates.DateFormatter('%Y-%m-%d'))\n",
    "plt.gca().xaxis.set_major_locator(mdates.DayLocator(interval=15))\n",
    "plt.xticks(rotation=45)\n",
    "plt.tight_layout()\n",
    "st.pyplot(plt)"
   ]
  },
  {
   "cell_type": "raw",
   "metadata": {},
   "source": [
    "Analytical Insights:\n",
    "\n",
    "    Sales Trend Identification: The line plot provides a clear visual representation of how sales have varied over time. Upward or downward trends can be easily spotted, offering insights into overall sales performance.\n",
    "\n",
    "    Seasonality and Patterns: Any cyclical patterns or seasonality in sales, such as increased sales during specific months or holidays, can be visually identified.\n",
    "\n",
    "    Data Point Specifics: The use of markers on the plot allows for the identification of specific dates where sales peaked or dipped significantly.\n",
    "\n",
    "    Date Range Analysis: The formatting and interval setting of the date axis aid in understanding the distribution of sales over specific time frames."
   ]
  },
  {
   "cell_type": "markdown",
   "metadata": {
    "id": "5JQtSweQQITS"
   },
   "source": [
    "# Sales By Category"
   ]
  },
  {
   "cell_type": "code",
   "execution_count": 23,
   "metadata": {
    "colab": {
     "base_uri": "https://localhost:8080/"
    },
    "id": "vxoZ8jUeM-k1",
    "outputId": "96cee6eb-e4e5-4769-ed94-641a70af98bb"
   },
   "outputs": [
    {
     "data": {
      "text/plain": [
       "DeltaGenerator()"
      ]
     },
     "execution_count": 23,
     "metadata": {},
     "output_type": "execute_result"
    }
   ],
   "source": [
    "# Sales by Category\n",
    "st.write(\"Sales by Category:\")\n",
    "sales_by_category = data.groupby('Category')['Amount'].sum()\n",
    "\n",
    "plt.figure(figsize=(10, 6))\n",
    "sales_by_category.plot(kind='bar', color='skyblue')\n",
    "plt.title('Sales by Category', fontsize=16)\n",
    "plt.xlabel('Category', fontsize=14)\n",
    "plt.ylabel('Sales', fontsize=14)\n",
    "plt.xticks(rotation=45)\n",
    "plt.grid(axis='y')\n",
    "st.pyplot(plt)"
   ]
  },
  {
   "cell_type": "raw",
   "metadata": {},
   "source": [
    "Analytical Insights\n",
    "\n",
    "    Category Performance: The bar chart quickly identifies which categories are generating the most revenue. High-performing categories could be the focus of increased marketing efforts or inventory expansion.\n",
    "\n",
    "    Comparison Across Categories: The visual comparison helps in understanding the relative performance of different categories. It can highlight underperforming categories that may require strategic changes.\n",
    "\n",
    "    Revenue Contribution: By analyzing the proportion of sales each category contributes, strategies can be formulated for inventory stocking, promotions, or discontinuation of certain lines."
   ]
  },
  {
   "cell_type": "markdown",
   "metadata": {
    "id": "XZHbaGk2QYGq"
   },
   "source": [
    "# Customer Demographics"
   ]
  },
  {
   "cell_type": "code",
   "execution_count": 24,
   "metadata": {
    "colab": {
     "base_uri": "https://localhost:8080/"
    },
    "id": "-7-PiJa2M-oz",
    "outputId": "e2d925a2-37f4-4e9d-a74d-13291446de49"
   },
   "outputs": [
    {
     "data": {
      "text/plain": [
       "DeltaGenerator()"
      ]
     },
     "execution_count": 24,
     "metadata": {},
     "output_type": "execute_result"
    }
   ],
   "source": [
    "# Customer Demographics\n",
    "st.write(\"Customer Demographics:\")\n",
    "\n",
    "# Age Distribution\n",
    "plt.figure(figsize=(10, 5))\n",
    "plt.hist(data['Age'], bins=20, color='lightgreen', edgecolor='black')\n",
    "plt.title('Age Distribution of Customers', fontsize=16)\n",
    "plt.xlabel('Age', fontsize=14)\n",
    "plt.ylabel('Number of Customers', fontsize=14)\n",
    "plt.grid(axis='y')\n",
    "st.pyplot(plt)\n",
    "\n",
    "# Gender Distribution\n",
    "gender_count = data['Gender'].value_counts()\n",
    "\n",
    "plt.figure(figsize=(10, 5))\n",
    "gender_count.plot(kind='bar', color=['salmon', 'lightblue'])\n",
    "plt.title('Gender Distribution of Customers', fontsize=16)\n",
    "plt.xlabel('Gender', fontsize=14)\n",
    "plt.ylabel('Number of Customers', fontsize=14)\n",
    "plt.xticks(rotation=0)\n",
    "st.pyplot(plt)"
   ]
  },
  {
   "cell_type": "raw",
   "metadata": {},
   "source": [
    "Analytical Insights:\n",
    "\n",
    "Age Distribution Insights:\n",
    "The histogram reveals the age range and concentration of the store's customer base. For example, if a significant number of customers fall within a particular age range, marketing and product development can be tailored accordingly.\n",
    "Identifying age groups with lower representation might indicate potential markets for expansion or untapped customer segments.\n",
    "\n",
    "Gender Distribution Insights:\n",
    "The bar chart provides a clear visual comparison of the number of customers of each gender.\n",
    "Understanding gender proportion helps in designing gender-specific marketing campaigns or product lines."
   ]
  },
  {
   "cell_type": "markdown",
   "metadata": {
    "id": "P6Qc4g2fQj_-"
   },
   "source": [
    "# Geographic Distribution"
   ]
  },
  {
   "cell_type": "code",
   "execution_count": 25,
   "metadata": {
    "colab": {
     "base_uri": "https://localhost:8080/"
    },
    "id": "n2TEFZYyM-sy",
    "outputId": "43415dbe-eeda-4d9f-dd55-8c1e837e20af"
   },
   "outputs": [
    {
     "data": {
      "text/plain": [
       "DeltaGenerator()"
      ]
     },
     "execution_count": 25,
     "metadata": {},
     "output_type": "execute_result"
    }
   ],
   "source": [
    "# Geographic Distribution of Sales\n",
    "st.write(\"Geographic Distribution of Sales:\")\n",
    "sales_by_state = data.groupby('ship-state')['Amount'].sum()\n",
    "\n",
    "plt.figure(figsize=(12, 6))\n",
    "sales_by_state.plot(kind='bar', color='purple')\n",
    "plt.title('Geographic Distribution of Sales', fontsize=16)\n",
    "plt.xlabel('State', fontsize=14)\n",
    "plt.ylabel('Sales', fontsize=14)\n",
    "plt.xticks(rotation=90)\n",
    "plt.grid(axis='y')\n",
    "st.pyplot(plt)"
   ]
  },
  {
   "cell_type": "raw",
   "metadata": {},
   "source": [
    "Analytical Insights:\n",
    "\n",
    "Sales Performance by State:\n",
    "The bar chart provides immediate visual cues about which states are generating the highest sales, indicating strong market presence and customer base in those regions.\n",
    "Conversely, states with lower sales figures may represent underpenetrated markets or areas where the business might be facing challenges.\n",
    "\n",
    "Market Saturation and Opportunities:\n",
    "The distribution of sales can highlight markets that are potentially saturated versus those that might offer opportunities for growth.\n",
    "Analyzing sales in conjunction with other demographic or economic data of the states can provide deeper insights into market characteristics."
   ]
  },
  {
   "cell_type": "markdown",
   "metadata": {
    "id": "FDvK8GuDQqxm"
   },
   "source": [
    "# Order Status Summary"
   ]
  },
  {
   "cell_type": "code",
   "execution_count": 26,
   "metadata": {
    "colab": {
     "base_uri": "https://localhost:8080/"
    },
    "id": "6LrF71SCM-up",
    "outputId": "aa8cca2e-0bd0-476d-c9d1-dcfdb8957da1"
   },
   "outputs": [
    {
     "data": {
      "text/plain": [
       "DeltaGenerator()"
      ]
     },
     "execution_count": 26,
     "metadata": {},
     "output_type": "execute_result"
    }
   ],
   "source": [
    "# Order Status Summary\n",
    "st.write(\"Order Status Summary:\")\n",
    "status_count = data['Status'].value_counts()\n",
    "\n",
    "plt.figure(figsize=(8, 8))\n",
    "status_count.plot(kind='pie', autopct='%1.1f%%', startangle=140, colors=['gold', 'lightcoral', 'lightskyblue'])\n",
    "plt.title('Order Status Summary', fontsize=16)\n",
    "plt.ylabel('')  # Hide the y-label\n",
    "st.pyplot(plt)"
   ]
  },
  {
   "cell_type": "raw",
   "metadata": {},
   "source": [
    "Analytical Insights\n",
    "\n",
    "Order Fulfillment Overview:\n",
    "The pie chart provides a clear visual representation of the proportion of each order status, allowing for immediate assessment of order processing efficiency and potential backlog issues.\n",
    "A higher proportion of 'Delivered' orders suggests efficient order processing and fulfillment, while a significant percentage of 'Pending' or other statuses might indicate bottlenecks.\n",
    "\n",
    "Operational Efficiency and Customer Satisfaction:\n",
    "The distribution of order statuses can be a key indicator of operational efficiency in order processing and delivery.\n",
    "The summary can also reflect on customer satisfaction levels, as a higher rate of completed orders typically correlates with positive customer experiences."
   ]
  },
  {
   "cell_type": "markdown",
   "metadata": {
    "id": "Dumg-ZgrQzsC"
   },
   "source": [
    "# Interactive Tables"
   ]
  },
  {
   "cell_type": "code",
   "execution_count": 27,
   "metadata": {
    "colab": {
     "base_uri": "https://localhost:8080/"
    },
    "id": "WAgb9cyhQy0X",
    "outputId": "f04617ba-37de-426c-9661-74e90d089052"
   },
   "outputs": [
    {
     "data": {
      "text/plain": [
       "DeltaGenerator()"
      ]
     },
     "execution_count": 27,
     "metadata": {},
     "output_type": "execute_result"
    }
   ],
   "source": [
    "st.write(\"Data Overview:\")\n",
    "st.dataframe(data.head())"
   ]
  }
 ],
 "metadata": {
  "colab": {
   "provenance": []
  },
  "kernelspec": {
   "display_name": "Python 3 (ipykernel)",
   "language": "python",
   "name": "python3"
  },
  "language_info": {
   "codemirror_mode": {
    "name": "ipython",
    "version": 3
   },
   "file_extension": ".py",
   "mimetype": "text/x-python",
   "name": "python",
   "nbconvert_exporter": "python",
   "pygments_lexer": "ipython3",
   "version": "3.11.3"
  }
 },
 "nbformat": 4,
 "nbformat_minor": 1
}
